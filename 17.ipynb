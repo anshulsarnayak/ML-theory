{
 "cells": [
  {
   "cell_type": "markdown",
   "id": "7afd3ec3",
   "metadata": {},
   "source": [
    "1. Using a graph to illustrate slope and intercept, define basic linear regression.\n",
    ":Linear regression is a data plot that graphs the linear relationship between an independent and a dependent variable. It is typically used to visually show the strength of the relationship and the dispersion of results – all for the purpose of explaining the behavior of the dependent variable.\n",
    "The regression slope intercept is used in linear regression. The regression slope intercept formula, b0 = y – b1 * x is really just an algebraic variation of the regression equation, y' = b0 + b1x where “b0” is the y-intercept and b1x is the slope.\n",
    "\n",
    "2. In a graph, explain the terms rise, run, and slope.\n",
    ":The slope of a line measures the steepness of the line. Most of you are probably familiar with associating slope with \"rise over run\". Rise means how many units you move up or down from point to point.Run means how far left or right you move from point to point. On the graph, that would mean a change of x values.\n",
    "\n",
    "3. Use a graph to demonstrate slope, linear positive slope, and linear negative slope, as well as the different conditions that contribute to the slope.\n",
    ":Slope stability is ultimately determined by two factors: the angle of the slope and the strength of the materials on it. \n",
    "\n",
    "4. Use a graph to demonstrate curve linear negative slope and curve linear positive slope.\n",
    ":If the line is sloping up to the right, the slope is positive (+). If the line is sloping down to the right, the slope is negative (-). Horizontal lines have a slope of zero (0). \n",
    "\n",
    "5. Use a graph to show the maximum and low points of curves.\n",
    ":To find the maximum/minimum of a curve you must first differentiate the function and then equate it to zero. This gives you one coordinate. To find the other you must resubstitute the one already found into the original function.\n",
    "\n",
    "6. Use the formulas for a and b to explain ordinary least squares.\n",
    ":In all cases the formula for OLS estimator remains the same: ^β = (XTX)−1XTy; the only difference is in how we interpret this result.\n",
    "\n",
    "7. Provide a step-by-step explanation of the OLS algorithm.\n",
    ":\n",
    "Ordinary Least Square Method:\n",
    "1.Set a difference between dependent variable and its estimation.\n",
    "2.Square the difference.\n",
    "3.Take summation for all data.\n",
    "4.To get the parameters that make the sum of square difference become minimum, take partial derivative for each parameter and equate it with zero.\n",
    "\n",
    "8. What is the regression's standard error? To represent the same, make a graph.\n",
    ":The standard error is calculated by dividing the standard deviation by the square root of number of measurements that make up the mean (often represented by N).\n",
    "\n",
    "9. Provide an example of multiple linear regression.\n",
    ": An analyst may want to know how the movement of the market affects the price of ExxonMobil (XOM). In this case, their linear equation will have the value of the S&P 500 index as the independent variable, or predictor, and the price of XOM as the dependent variable.\n",
    "\n",
    "10. Describe the regression analysis assumptions and the BLUE principle.\n",
    ":BLUE is an acronym for the following: Best Linear Unbiased Estimator. In this context, the definition of “best” refers to the minimum variance or the narrowest sampling distribution.\n",
    "\n",
    "11. Describe two major issues with regression analysis.\n",
    ":It involves very lengthy and complicated procedure of calculations and analysis. It cannot be used in case of qualitative phenomenon\n",
    "\n",
    "12. How can the linear regression model's accuracy be improved?\n",
    ":Train each model in the different folds, and predict on the splitted training data. Setup a simple machine learning algorithm, such as linear regression. Use the trained weights from each model as a feature for the linear regression. Use the original train data set target as the target for the linear regression\n",
    "\n",
    "13. Using an example, describe the polynomial regression model in detail.\n",
    ": polynomial regression is a form of regression analysis in which the relationship between the independent variable x and the dependent variable y is modelled as an nth degree polynomial in x.\n",
    "\n",
    "14. Provide a detailed explanation of logistic regression.\n",
    ":Logistic regression is a statistical analysis method used to predict a data value based on prior observations of a data set.\n",
    "Like all regression analyses, logistic regression is a predictive analysis. Logistic regression is used to describe data and to explain the relationship between one dependent binary variable and one or more nominal, ordinal, interval or ratio-level independent variables.\n",
    "\n",
    "15. What are the logistic regression assumptions?\n",
    ":Basic assumptions that must be met for logistic regression include independence of errors, linearity in the logit for continuous variables, absence of multicollinearity, and lack of strongly influential outliers.\n",
    "\n",
    "16. Go through the details of maximum likelihood estimation.\n",
    ": Maximum likelihood estimation is a method of estimating the parameters of an assumed probability distribution, given some observed data. This is achieved by maximizing a likelihood function so that, under the assumed statistical model, the observed data is most probable."
   ]
  }
 ],
 "metadata": {
  "kernelspec": {
   "display_name": "Python 3",
   "language": "python",
   "name": "python3"
  },
  "language_info": {
   "codemirror_mode": {
    "name": "ipython",
    "version": 3
   },
   "file_extension": ".py",
   "mimetype": "text/x-python",
   "name": "python",
   "nbconvert_exporter": "python",
   "pygments_lexer": "ipython3",
   "version": "3.8.8"
  }
 },
 "nbformat": 4,
 "nbformat_minor": 5
}
