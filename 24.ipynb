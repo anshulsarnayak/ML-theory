{
 "cells": [
  {
   "cell_type": "markdown",
   "id": "1b5d40ec",
   "metadata": {},
   "source": [
    "1. What is your definition of clustering? What are a few clustering algorithms you might think of?\n",
    ":clustering is the task of grouping a set of objects in such a way that objects in the same group are more similar to each other than to those in other groups.\n",
    "Hierarchical-based. \n",
    "K-means clustering algorithm. \n",
    "DBSCAN clustering algorithm. \n",
    "\n",
    "2. What are some of the most popular clustering algorithm applications?\n",
    ":Clustering technique is used in various applications such as market research and customer segmentation, biological data and medical imaging, search result clustering, recommendation engine, pattern recognition, social network analysis, image processing.\n",
    "\n",
    "3. When using K-Means, describe two strategies for selecting the appropriate number of clusters.\n",
    ": Elbow method , Silhoutte method.\n",
    "\n",
    "4. What is mark propagation and how does it work? Why would you do it, and how would you do it?\n",
    ":\n",
    "\n",
    "5. Provide two examples of clustering algorithms that can handle large datasets. And two that look for high-density areas?\n",
    ":K-means clustering is the most commonly used for large clustering algorithm.\n",
    "\n",
    "6. Can you think of a scenario in which constructive learning will be advantageous? How can you go about putting it into action?\n",
    ":\n",
    "\n",
    "7. How do you tell the difference between anomaly and novelty detection?\n",
    ":In outlier detection, you dataset may already have outliers and your goal is to identify such outliers. Both novelty detection and outlier detection are used to detect anomalies. Outlier detection is an unsupervised anomaly detection algorithm. Novelty detection is a semi-supervised anomaly detection algorithm.\n",
    "\n",
    "8. What is a Gaussian mixture, and how does it work? What are some of the things you can do about it?\n",
    ": Gaussian Mixture Models (GMMs) assume that there are a certain number of Gaussian distributions, and each of these distributions represent a cluster. Hence, a Gaussian Mixture Model tends to group the data points belonging to a single distribution together.\n",
    "\n",
    "9. When using a Gaussian mixture model, can you name two techniques for determining the correct number of clusters?\n",
    ":"
   ]
  },
  {
   "cell_type": "code",
   "execution_count": null,
   "id": "ea6e0119",
   "metadata": {},
   "outputs": [],
   "source": [
    "1. What is your definition of clustering? What are a few clustering algorithms you might think of?\n",
    "2. What are some of the most popular clustering algorithm applications?\n",
    "3. When using K-Means, describe two strategies for selecting the appropriate number of clusters.\n",
    "\n",
    "4. What is mark propagation and how does it work? Why would you do it, and how would you do it?\n",
    "\n",
    "5. Provide two examples of clustering algorithms that can handle large datasets. And two that look for high-density areas?\n",
    "\n",
    "6. Can you think of a scenario in which constructive learning will be advantageous? How can you go about putting it into action?\n",
    "\n",
    "7. How do you tell the difference between anomaly and novelty detection?\n",
    "\n",
    "8. What is a Gaussian mixture, and how does it work? What are some of the things you can do about it?\n",
    "\n",
    "9. When using a Gaussian mixture model, can you name two techniques for determining the correct number of clusters?\n"
   ]
  }
 ],
 "metadata": {
  "kernelspec": {
   "display_name": "Python 3",
   "language": "python",
   "name": "python3"
  },
  "language_info": {
   "codemirror_mode": {
    "name": "ipython",
    "version": 3
   },
   "file_extension": ".py",
   "mimetype": "text/x-python",
   "name": "python",
   "nbconvert_exporter": "python",
   "pygments_lexer": "ipython3",
   "version": "3.8.8"
  }
 },
 "nbformat": 4,
 "nbformat_minor": 5
}
