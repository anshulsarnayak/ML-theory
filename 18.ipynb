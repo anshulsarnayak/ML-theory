{
 "cells": [
  {
   "cell_type": "markdown",
   "id": "ad11e94f",
   "metadata": {},
   "source": [
    "1. What is the difference between supervised and unsupervised learning? Give some examples to illustrate your point.\n",
    ":Supervised learning is the technique of accomplishing a task by providing training, input and output patterns to the systems whereas unsupervised learning is a self-learning technique in which system has to discover the features of the input population by its own and no prior set of categories are used.\n",
    "\n",
    "2. Mention a few unsupervised learning applications.\n",
    ":The main applications of unsupervised learning include clustering, visualization, dimensionality reduction, finding association rules, and anomaly detection.\n",
    "\n",
    "3. What are the three main types of clustering methods? Briefly describe the characteristics of each.\n",
    ":types:\n",
    " 1.k_mean :k-means clustering is a method of vector quantization, originally from signal processing, that aims to partition n observations into k clusters in which each observation belongs to the cluster with the nearest mean, serving as a prototype of the cluster. \n",
    " \n",
    " 2.Herierichal :Hierarchical clustering, also known as hierarchical cluster analysis, is an algorithm that groups similar objects into groups called clusters. The endpoint is a set of clusters, where each cluster is distinct from each other cluster, and the objects within each cluster are broadly similar to each other.\n",
    " \n",
    " 3.DBS : The principle of DBSCAN is to find the neighborhoods of data points exceeds certain density threshold. The density threshold is defined by two parameters: the radius of the neighborhood (eps) and the minimum number of neighbors/data points (minPts) within the radius of the neighborhood.\n",
    "\n",
    "4. Explain how the k-means algorithm determines the consistency of clustering.\n",
    ":K-Means Clustering is an Unsupervised Learning algorithm, which groups the unlabeled dataset into different clusters. Here K defines the number of pre-defined clusters that need to be created in the process, as if K=2, there will be two clusters, and for K=3, there will be three clusters, and so on.\n",
    "\n",
    "5. With a simple illustration, explain the key difference between the k-means and k-medoids algorithms.\n",
    ":K-means attempts to minimize the total squared error, while k-medoids minimizes the sum of dissimilarities between points labeled to be in a cluster and a point designated as the center of that cluster.\n",
    "\n",
    "6. What is a dendrogram, and how does it work? Explain how to do it.\n",
    ":A dendrogram is a diagram that shows the attribute distances between each pair of sequentially merged classes. To avoid crossing lines, the diagram is graphically arranged so that members of each pair of classes to be merged are neighbors in the diagram. The Dendrogram tool uses a hierarchical clustering algorithm.\n",
    "\n",
    "7. What exactly is SSE? What role does it play in the k-means algorithm?\n",
    ": SSE stands for Sum Squared Error which is used in Elbow method which is used to determine no. of K.\n",
    "\n",
    "8. With a step-by-step algorithm, explain the k-means procedure.\n",
    ":\n",
    "Step 1: Choose the number of clusters k.\n",
    "Step 2: Select k random points from the data as centroids.\n",
    "Step 3: Assign all the points to the closest cluster centroid. \n",
    "Step 4: Recompute the centroids of newly formed clusters. \n",
    "Step 5: Repeat steps 3 and 4.\n",
    "\n",
    "9. In the sense of hierarchical clustering, define the terms single link and complete link.\n",
    ":In single-link (or single linkage) hierarchical clustering, we merge in each step the two clusters whose two closest members have the smallest distance (or: the two clusters with the smallest minimum pairwise distance). Complete-link clustering can also be described using the concept of clique.\n",
    "\n",
    "10. How does the apriori concept aid in the reduction of measurement overhead in a business basket analysis? Give an example to demonstrate your point.\n",
    ":Apriori algorithm assumes that any subset of a frequent itemset must be frequent. Its the algorithm behind Market Basket Analysis.Apriori Algorithm is a widely-used and well-known Association Rule algorithm and is a popular algorithm used in market basket analysis."
   ]
  }
 ],
 "metadata": {
  "kernelspec": {
   "display_name": "Python 3",
   "language": "python",
   "name": "python3"
  },
  "language_info": {
   "codemirror_mode": {
    "name": "ipython",
    "version": 3
   },
   "file_extension": ".py",
   "mimetype": "text/x-python",
   "name": "python",
   "nbconvert_exporter": "python",
   "pygments_lexer": "ipython3",
   "version": "3.8.8"
  }
 },
 "nbformat": 4,
 "nbformat_minor": 5
}
