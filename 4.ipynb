{
 "cells": [
  {
   "cell_type": "markdown",
   "id": "49365b10",
   "metadata": {},
   "source": [
    "1. What are the key tasks involved in getting ready to work with machine learning modeling?\n",
    ":Data Collection,Data Preparation,Choose a Model,Train the Model, Evaluate the Model,Parameter Tuning, Make Predictions.\n",
    "\n",
    "2. What are the different forms of data used in machine learning? Give a specific example for each of them.\n",
    ":Data can be categorized into 4 basic types from a Machine Learning perspective: numerical data, categorical data, time-series data, and text . and examples of them are height,sex,heights of ocean tides and customer surveys respectively.\n",
    "\n",
    "3. Distinguish:\n",
    "1. Numeric vs. categorical attributes\n",
    ":Categorical data refers to a data type that can be stored and identified based on the names or labels given to them.categorical data have no logical order .e.g, Eye Color.\n",
    "Numerical data refers to the data that is in the form of numbers, and not in any language or descriptive form.e.g,Age.\n",
    "\n",
    "2. Feature selection vs. dimensionality reduction\n",
    ":Feature selection is simply selecting and excluding given features without changing them. \n",
    "Dimensionality reduction transforms features into a lower dimension.\n",
    "\n",
    "4. Make quick notes on any two of the following:\n",
    "1. The histogram\n",
    ":Histogram represents the distribution of a continuous variable over a given interval or period of time. Histograms plot the data by dividing it into intervals called 'bins'.From the shape of the bin, we can easily observe the distribution i.e. weather it is Gaussian, skewed or exponential. \n",
    "\n",
    "2. Use a scatter plot\n",
    ":Scatter plots shows how much one variable is affected by another or the relationship between them with the help of dots in two dimensions.\n",
    "\n",
    "3. PCA (Personal Computer Analysis)\n",
    ":Principal Component Analysis (PCA) is used to explain the variance-covariance structure of a set of variables through linear combinations. It is often used as a dimensionality-reduction technique.\n",
    "\n",
    "5. Why is it necessary to investigate data? Is there a discrepancy in how qualitative and quantitative data are explored?\n",
    ": when we will investigate the data we will get to know the data better and which will led to good model building.The quantitative and qualitative studies do not measure the same, Therefore, their findings cannot be reported in the same manner\n",
    "\n",
    "6. What are the various histogram shapes? What exactly are ‘bins'?\n",
    ": Histogram Shapes depend on the given distribution hence it's shapes are as follows,\n",
    "Normal Distribution,Skewed Distribution,Double-Peaked or Bimodal,Plateau or Multimodal Distribution,Edge Peak Distribution,Comb Distribution,Heart-Cut Distribution,Dog Food Distribution.Histograms plot the data by dividing it into intervals called 'bins'.\n",
    "\n",
    "7. How do we deal with data outliers?\n",
    ":If you drop outliers:\n",
    "1.Trim the data set, but replace outliers with the nearest “good” data, as opposed to truncating them completely. (This called Winsorization.) ...\n",
    "2.Replace outliers with the mean or median (whichever better represents for your data) for that variable to avoid a missing data point.\n",
    "\n",
    "8. What are the various central inclination measures? Why does mean vary too much from median in certain data sets?\n",
    ":Three main measures of central tendency: the mode, the median and the mean.mean is largely influenced by outliers while median is less affected by outliers and skewed data.\n",
    "\n",
    "9. Describe how a scatter plot can be used to investigate bivariate relationships. Is it possible to find outliers using a scatter plot?\n",
    ": as scatter plot is betn two varibles (mostly) so, it is used to investigate bivariate relationships.It is possible to find outliers using a scatter plot.\n",
    "\n",
    "10. Describe how cross-tabs can be used to figure out how two variables are related.\n",
    ":Cross tabulation is a method to quantitatively analyze the relationship between multiple variables. Also known as contingency tables or cross tabs, cross tabulation groups variables to understand the correlation between different variables. It also shows how correlations change from one variable grouping to another"
   ]
  }
 ],
 "metadata": {
  "kernelspec": {
   "display_name": "Python 3",
   "language": "python",
   "name": "python3"
  },
  "language_info": {
   "codemirror_mode": {
    "name": "ipython",
    "version": 3
   },
   "file_extension": ".py",
   "mimetype": "text/x-python",
   "name": "python",
   "nbconvert_exporter": "python",
   "pygments_lexer": "ipython3",
   "version": "3.8.8"
  }
 },
 "nbformat": 4,
 "nbformat_minor": 5
}
