{
 "cells": [
  {
   "cell_type": "markdown",
   "id": "cfb925a6",
   "metadata": {},
   "source": [
    "1. What is the underlying concept of Support Vector Machines?\n",
    ":SVM or Support Vector Machine is a linear model for classification and regression problems. It can solve linear and non-linear problems and work well for many practical problems. The idea of SVM is simple: The algorithm creates a line or a hyperplane which separates the data into classes With the help of Support vectors.\n",
    "\n",
    "2. What is the concept of a support vector?\n",
    ":Support vectors are data points that are closer to the hyperplane and influence the position and orientation of the hyperplane. Using these support vectors, we maximize the margin of the classifier. Deleting the support vectors will change the position of the hyperplane. These are the points that help us build our SVM.\n",
    "\n",
    "3. When using SVMs, why is it necessary to scale the inputs?\n",
    ":Feature scaling is crucial for some machine learning algorithms, which consider distances between observations because the distance between two observations differs for non-scaled and scaled cases. As we've already stated, the decision boundary maximizes the distance to the nearest data points from different classes.\n",
    "Because Support Vector Machine (SVM) optimization occurs by minimizing the decision vector w, the optimal hyperplane is influenced by the scale of the input features and it's therefore recommended that data be standardized (mean 0, var 1) prior to SVM model training.\n",
    "\n",
    "4. When an SVM classifier classifies a case, can it output a confidence score? What about a percentage chance?\n",
    ": An SVM classifier can output the distance between the test instance and the decision boundary, and you can use this as a confidence score. However, this score cannot be directly converted into an estimation of the class probability.\n",
    "\n",
    "5. Should you train a model on a training set with millions of instances and hundreds of features using the primal or dual form of the SVM problem?\n",
    ":if there are millions of instances, you should definitely use the primal form, because the dual form will be much too slow. \n",
    "\n",
    "6. Let's say you've used an RBF kernel to train an SVM classifier, but it appears to underfit the training collection. Is it better to raise or lower (gamma)? What about the letter C?\n",
    ":It would be reasonable to try increasing C. It would also be reasonable to try decreasing gamma.\n",
    "\n",
    "7. To solve the soft margin linear SVM classifier problem with an off-the-shelf QP solver, how should the QP parameters (H, f, A, and b) be set?\n",
    ":\n",
    "\n",
    "8. On a linearly separable dataset, train a LinearSVC. Then, using the same dataset, train an SVC and an SGDClassifier. See if you can get them to make a model that is similar to yours.\n",
    ":it depends on the dataset and of course a lot of other factors add weight .\n",
    "\n",
    "9. On the MNIST dataset, train an SVM classifier. You'll need to use one-versus-the-rest to assign all 10 digits because SVM classifiers are binary classifiers. To accelerate up the process, you might want to tune the hyperparameters using small validation sets. What level of precision can you achieve?\n",
    ":\n",
    "\n",
    "10. On the California housing dataset, train an SVM regressor."
   ]
  },
  {
   "cell_type": "code",
   "execution_count": 26,
   "id": "3d68b87a",
   "metadata": {},
   "outputs": [
    {
     "data": {
      "text/plain": [
       "-0.02598715679439767"
      ]
     },
     "execution_count": 26,
     "metadata": {},
     "output_type": "execute_result"
    }
   ],
   "source": [
    "# 10. On the California housing dataset, train an SVM regressor.\n",
    "\n",
    "from sklearn.datasets import fetch_california_housing\n",
    "\n",
    "cal_house = fetch_california_housing()\n",
    "\n",
    "import pandas as pd \n",
    "\n",
    "df = pd.DataFrame(cal_house.data,columns=cal_house.feature_names)\n",
    "df['target'] = pd.DataFrame(cal_house.target)\n",
    "\n",
    "x = df.drop(['target'],axis=1)\n",
    "y = df.target\n",
    "\n",
    "from sklearn.model_selection import train_test_split\n",
    "x_train,x_test,y_train,y_test = train_test_split(x,y,random_state=27) \n",
    "\n",
    "from sklearn.svm import SVR\n",
    "#kernel : {'linear', 'poly', 'rbf', 'sigmoid', 'precomputed'}\n",
    "model = SVR()\n",
    "model.fit(x_train,y_train)\n",
    "\n",
    "model.score(x_test,y_test)"
   ]
  },
  {
   "cell_type": "code",
   "execution_count": null,
   "id": "43591add",
   "metadata": {},
   "outputs": [],
   "source": []
  }
 ],
 "metadata": {
  "kernelspec": {
   "display_name": "Python 3",
   "language": "python",
   "name": "python3"
  },
  "language_info": {
   "codemirror_mode": {
    "name": "ipython",
    "version": 3
   },
   "file_extension": ".py",
   "mimetype": "text/x-python",
   "name": "python",
   "nbconvert_exporter": "python",
   "pygments_lexer": "ipython3",
   "version": "3.8.8"
  }
 },
 "nbformat": 4,
 "nbformat_minor": 5
}
