{
 "cells": [
  {
   "cell_type": "markdown",
   "id": "3f62db22",
   "metadata": {},
   "source": [
    "1. What are the key tasks ML entails? What does data pre-processing imply?\n",
    ":Data gathering,Data preprocessing,Exploratory data analysis (EDA),Feature engineering,Training machine learning models,Testing and matching,Model monitoring,Model retraining.\n",
    "Data Preprocessing is a technique that is used to convert the raw data into a clean data set. \n",
    "\n",
    "2. Describe quantitive and qualitative data in depth. Make a distinction between the two.\n",
    ":Quantitative data are data about numeric variables. Qualitative data are measures of 'types' and may be represented by a name, symbol, or a number code. Qualitative data are data about categorical variables.\n",
    "\n",
    "4. What are the various causes of machine learning data issues? What are the ramifications?\n",
    ":\n",
    "Poor Quality of Data,Underfitting of Training Data,Overfitting of Training Data,Machine Learning is a Complex Process,Lack of Training Data,Slow Implementation.beacuse of this Ml model takes time and accuracy get's affected.\n",
    "\n",
    "5. Demonstrate various approaches to categorical data exploration with appropriate examples.\n",
    ":The most common graphical tool used to summarise a categorical variable is a bar chart.Categorical variables represent types of data which may be divided into groups. Examples of categorical variables are race, sex, age group, and educational level.\n",
    "\n",
    "6. How would the learning activity be affected if certain variables have missing values? Having said that, what can be done about it?\n",
    ":Missing data can reduce the statistical power of a study and can produce biased estimates, leading to invalid conclusions.If there is a larger number of missing values, then it can be better to drop those cases (rather than do imputation) and replace them.\n",
    "\n",
    "7. Describe the various methods for dealing with missing data values in depth.\n",
    ":\n",
    "Deleting Rows with missing values.\n",
    "Impute missing values for continuous variable.\n",
    "Impute missing values for categorical variable.\n",
    "Other Imputation Methods.\n",
    "Using Algorithms that support missing values.\n",
    "Prediction of missing values.\n",
    "\n",
    "8. What are the various data pre-processing techniques? Explain dimensionality reduction and function selection in a few words.\n",
    ":Data Cleaning,Data Integration,Data Transformation,Data Reduction.Feature selection is simply selecting and excluding given features without changing them. Dimensionality reduction transforms features into a lower dimension.\n",
    "\n",
    "9.\n",
    "i.What is the IQR? What criteria are used to assess it?\n",
    ":The IQR describes the middle 50% of values when ordered from lowest to highest. To find the interquartile range (IQR), ​first find the median (middle value) of the lower and upper half of the data.The interquartile range is calculated in much the same way as the range. All you do to find it is subtract the first quartile from the third quartile: IQR = Q3 – Q1.\n",
    "\n",
    "\n",
    "ii.Describe the various components of a box plot in detail? When will the lower whisker surpass the upper whisker in length? How can box plots be used to identify outliers?\n",
    ":a box plot—displays the five-number summary of a set of data. The five-number summary is the minimum, first quartile, median, third quartile, and maximum.In the boxplot below, the length of the box is IQR, and the minimum and maximum values are represented by the whiskers. The whiskers are generally extended into 1.5*IQR distance on either side of the box. Therefore, all data points outside these 1.5*IQR values are flagged as outliers.\n",
    "\n",
    "10. Make brief notes on any two of the following:\n",
    "1. Data collected at regular intervals\n",
    ":Interval data is one of the two types of discrete data. An example of interval data is the data collected on a thermometer—its gradation or markings are equidistant. Unlike ordinal data, interval data always take numerical values where the distance between two points on the scale is standardised and equal.\n",
    "\n",
    "2. The gap between the quartiles\n",
    ":In a set of data, the quartiles are the values that divide the data into four equal parts. The median of a set of data separates the set in half. ... The interquartile range or IQR is the range of the middle half of a set of data. It is the difference between the upper quartile and the lower quartile.\n",
    "\n",
    "3. Use a cross-tab\n",
    ":The Crosstabs procedure is used to create contingency tables, which describe the interaction between two categorical variables.\n",
    "\n",
    "11. Make a comparison between:\n",
    "\n",
    "1. Data with nominal and ordinal values\n",
    ":Nominal data is classified without a natural order or rank, whereas ordinal data has a predetermined or natural order. \n",
    "\n",
    "2. Histogram and box plot\n",
    ":Histograms and box plots are very similar in that they both help to visualize and describe numeric data. Although histograms are better in determining the underlying distribution of the data, box plots allow you to compare multiple data sets better than histograms as they are less detailed and take up less space.\n",
    "\n",
    "3. The average and median\n",
    ":The average is calculated by adding up all of the individual values and dividing this total by the number of observations. The median is calculated by taking the “middle” value, the value for which half of the observations are larger and half are smaller."
   ]
  }
 ],
 "metadata": {
  "kernelspec": {
   "display_name": "Python 3",
   "language": "python",
   "name": "python3"
  },
  "language_info": {
   "codemirror_mode": {
    "name": "ipython",
    "version": 3
   },
   "file_extension": ".py",
   "mimetype": "text/x-python",
   "name": "python",
   "nbconvert_exporter": "python",
   "pygments_lexer": "ipython3",
   "version": "3.8.8"
  }
 },
 "nbformat": 4,
 "nbformat_minor": 5
}
