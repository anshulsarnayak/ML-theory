{
 "cells": [
  {
   "cell_type": "markdown",
   "id": "f6f97d61",
   "metadata": {},
   "source": [
    "1. In a linear equation, what is the difference between a dependent variable and an independent variable?\n",
    ": A linear equation typically takes the form y = mx + b, where m and b are constants, x is the independent variable, y is the dependent variable.\n",
    "\n",
    "2. What is the concept of simple linear regression? Give a specific example.\n",
    ":Simple linear regression is used to model the relationship between two continuous variables. Often, the objective is to predict the value of an output variable (or response) based on the value of an input (or predictor) variable.e.g,Medical researchers often use linear regression to understand the relationship between drug dosage and blood pressure of patients.\n",
    "\n",
    "3. In a linear regression, define the slope.\n",
    ": The slope of a regression line (b) represents the rate of change in y as x changes.we can call it as Feature Weight.\n",
    "\n",
    "4. Determine the graph's slope, where the lower point on the line is represented as (3, 2) and the higher point is represented as (2, 2).\n",
    ":The Slope is 0.\n",
    "\n",
    "5. In linear regression, what are the conditions for a positive slope?\n",
    ":positive slope means that two variables are positively related—that is, when x increases, so does y, and when x decreases, y decreases also.\n",
    "\n",
    "6. In linear regression, what are the conditions for a negative slope?\n",
    ":negative slope means that two variables are negatively related; that is, when x increases, y decreases, and when x decreases, y increases.\n",
    "\n",
    "7. What is multiple linear regression and how does it work?\n",
    ":Multiple linear regression refers to a statistical technique that uses two or more independent variables to predict the outcome of a dependent variable. The technique enables analysts to determine the variation of the model and the relative contribution of each independent variable in the total variance.\n",
    "\n",
    "8. In multiple linear regression, define the number of squares due to error.\n",
    ":Sum of squares error: SSE represents sum of squares error, also known as residual sum of squares. It is the difference between the observed value and the predicted value\n",
    "\n",
    "9. In multiple linear regression, define the number of squares due to regression.\n",
    ":Sum of squares is a statistical technique used in regression analysis to determine the dispersion of data points.\n",
    "\n",
    "10. In a regression equation, what is multicollinearity?\n",
    ":Multicollinearity exists whenever an independent variable is highly correlated with one or more of the other independent variables in a multiple regression equation.\n",
    "\n",
    "11. What is heteroskedasticity, and what does it mean?\n",
    ": Heteroscedasticity often occurs when there is a large difference among the sizes of the observations. \n",
    "\n",
    "12. Describe the concept of ridge regression.\n",
    ":Ridge Regression is a technique used when the data suffers from multicollinearity Where we add l2 regularized term.\n",
    "\n",
    "13. Describe the concept of lasso regression.\n",
    ":lasso is a regression analysis method that performs both variable selection and regularization in order to enhance the prediction accuracy and interpretability of the resulting statistical model. \n",
    "\n",
    "14. What is polynomial regression and how does it work?\n",
    ":Polynomial Regression is a form of Linear regression known as a special case of Multiple linear regression which estimates the relationship as an nth degree polynomial. Polynomial Regression is sensitive to outliers so the presence of one or two outliers can also badly affect the performance.\n",
    "\n",
    "15. Describe the basis function.\n",
    ":a basis function is an element of a particular basis for a function space. Every function in the function space can be represented as a linear combination of basis functions, just as every vector in a vector space can be represented as a linear combination of basis vectors.\n",
    "\n",
    "16. Describe how logistic regression works.\n",
    ":Logistic regression is a supervised learning classification algorithm used to predict the probability of a target variable.It is used when the data is linearly separable and the outcome is binary or dichotomous in nature ,With the help of Sigmoid function. "
   ]
  }
 ],
 "metadata": {
  "kernelspec": {
   "display_name": "Python 3",
   "language": "python",
   "name": "python3"
  },
  "language_info": {
   "codemirror_mode": {
    "name": "ipython",
    "version": 3
   },
   "file_extension": ".py",
   "mimetype": "text/x-python",
   "name": "python",
   "nbconvert_exporter": "python",
   "pygments_lexer": "ipython3",
   "version": "3.8.8"
  }
 },
 "nbformat": 4,
 "nbformat_minor": 5
}
