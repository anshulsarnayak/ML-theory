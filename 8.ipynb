{
 "cells": [
  {
   "cell_type": "markdown",
   "id": "ad76c96d",
   "metadata": {},
   "source": [
    "1. What exactly is a feature? Give an example to illustrate your point.\n",
    ": A feature is an individual measurable property or characteristic of a phenomenon . Human face has nose , ears which are features as from which we can recognize the Human.\n",
    "\n",
    "2. What are the various circumstances in which feature construction is required?\n",
    ": Feature construction is used to compress the dataset by reducing the number of features or to improve the prediction performance.\n",
    "\n",
    "3. Describe how nominal variables are encoded.\n",
    ":When we have a feature where variables are just names and there is no order or rank to this variable's feature. \n",
    "\n",
    "4. Describe how numeric features are converted to categorical features.\n",
    ": With the help of LabelEncoder we can convert nummeric features to categorical features which is in sklearn.preprocessing .\n",
    "\n",
    "5. Describe the feature selection wrapper approach. State the advantages and disadvantages of this approach?\n",
    ":In wrapper methods, the feature selection process is based on a specific machine learning algorithm that we are trying to fit on a given dataset. It follows a greedy search approach by evaluating all the possible combinations of features against the evaluation criterion.\n",
    "\n",
    "6. When is a feature considered irrelevant? What can be said to quantify it?\n",
    ": Feature considered irrelevant refers to techniques that calculate a score for all the input features for a given model — the scores simply represent the “importance” of each feature. A higher score means that the specific feature will have a larger effect on the model that is being used to predict a certain variable.\n",
    "\n",
    "7. When is a function considered redundant? What criteria are used to identify features that could be redundant?\n",
    ": two features are highly correlated, then the two features become redundant features since they have same information in terms of correlation measure. In other words, the correlation measure provides statistical association between any given a pair of features.\n",
    "\n",
    "8. What are the various distance measurements used to determine feature similarity?\n",
    ":\n",
    "Various distance measurements used to determine feature similarity are,\n",
    "Role of Distance Measures.\n",
    "Hamming Distance.\n",
    "Euclidean Distance.\n",
    "Manhattan Distance (Taxicab or City Block)\n",
    "Minkowski Distance.\n",
    "\n",
    "9. State difference between Euclidean and Manhattan distances?\n",
    ":Euclidean distance is the shortest path between source and destination which is a straight line  but Manhattan distance is sum of all the real distances between source(s) and destination(d) and each distance are always the straight lines\n",
    "\n",
    "10. Distinguish between feature transformation and feature selection.\n",
    ":feature extraction and feature engineering: transformation of raw data into features suitable for modeling;\n",
    "feature transformation: transformation of data to improve the accuracy of the algorithm;\n",
    "feature selection: removing unnecessary features.\n",
    "\n",
    "\n",
    "11. Make brief notes on any two of the following:\n",
    "\n",
    "          1.SVD (Standard Variable Diameter Diameter)\n",
    "        :SVD is basically a matrix factorization technique, which decomposes any matrix into 3 generic and familiar matrices. It has some cool applications in Machine Learning and Image Processing. To understand the concept of Singular Value Decomposition the knowledge on eigenvalues and eigenvectors is essential.\n",
    "             \n",
    "          2. Collection of features using a hybrid approach\n",
    "        : A hybrid feature selection method is proposed for classification in small sample size data sets.\n",
    "          \n",
    "          3. The width of the silhouette\n",
    "        :The silhouette value is a measure of how similar an object is to its own cluster (cohesion) compared to other clusters (separation). ... The silhouette ranges from −1 to +1, where a high value indicates that the object is well matched to its own cluster and poorly matched to neighboring clusters.\n",
    "\n",
    "          4. Receiver operating characteristic curve\n",
    "        : The ROC curve shows the trade-off between sensitivity (or TPR) and specificity (1 – FPR)."
   ]
  }
 ],
 "metadata": {
  "kernelspec": {
   "display_name": "Python 3",
   "language": "python",
   "name": "python3"
  },
  "language_info": {
   "codemirror_mode": {
    "name": "ipython",
    "version": 3
   },
   "file_extension": ".py",
   "mimetype": "text/x-python",
   "name": "python",
   "nbconvert_exporter": "python",
   "pygments_lexer": "ipython3",
   "version": "3.8.8"
  }
 },
 "nbformat": 4,
 "nbformat_minor": 5
}
