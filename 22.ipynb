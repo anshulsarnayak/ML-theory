{
 "cells": [
  {
   "cell_type": "markdown",
   "id": "679bedb1",
   "metadata": {},
   "source": [
    "1. Is there any way to combine five different models that have all been trained on the same training data and have all achieved 95 percent precision? If so, how can you go about doing it? If not, what is the reason?\n",
    ":Ensemble Models use multiple machine learning algorithms to bring out better predictive results, as compared to using a single algorithm.\n",
    "\n",
    "2. What's the difference between hard voting classifiers and soft voting classifiers?\n",
    ":Hard voting classifier classifies input data based on the mode of all the predictions made by different classifiers. The majority voting is considered differently when weights associated with the different classifiers are equal or otherwise.\n",
    "\n",
    "Soft voting classifier classifies input data based on the probabilities of all the predictions made by different classifiers. \n",
    "\n",
    "3. Is it possible to distribute a bagging ensemble's training through several servers to speed up the process? Pasting ensembles, boosting ensembles, Random Forests, and stacking ensembles are all options.\n",
    ":It is quite possible to speed up training of a bagging ensemble, pasting ensembles and Random Forests by distributing it across multiple servers, since each predictor in the ensemble is independent of the others.\n",
    "\n",
    "4. What is the advantage of evaluating out of the bag?\n",
    ":The advantage of the OOB method is that it requires less computation and allows one to test the model as it is being trained.\n",
    "\n",
    "5. What distinguishes Extra-Trees from ordinary Random Forests? What good would this extra randomness do? Is it true that Extra-Tree Random Forests are slower or faster than normal Random Forests?\n",
    ":Random Forest chooses the optimum split while Extra Trees chooses it randomly. However, once the split points are selected, the two algorithms choose the best one between all the subset of features. Therefore, Extra Trees adds randomization but still has optimization.\n",
    "\n",
    "6. Which hyperparameters and how do you tweak if your AdaBoost ensemble underfits the training data?\n",
    ":If your AdaBoost ensemble underfits the training data, you can try increasing the number of estimators or reducing the regularization hyperparameters of the base estimator. You may also try slightly increasing the learning rate.\n",
    "\n",
    "7. Should you raise or decrease the learning rate if your Gradient Boosting ensemble overfits the training set?\n",
    ":f your Gradient Boosting ensemble overfits the training set, you should try decreasing the learning rate. You could also use early stopping to find the right number of predictors."
   ]
  }
 ],
 "metadata": {
  "kernelspec": {
   "display_name": "Python 3",
   "language": "python",
   "name": "python3"
  },
  "language_info": {
   "codemirror_mode": {
    "name": "ipython",
    "version": 3
   },
   "file_extension": ".py",
   "mimetype": "text/x-python",
   "name": "python",
   "nbconvert_exporter": "python",
   "pygments_lexer": "ipython3",
   "version": "3.8.8"
  }
 },
 "nbformat": 4,
 "nbformat_minor": 5
}
