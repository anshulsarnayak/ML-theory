{
 "cells": [
  {
   "cell_type": "markdown",
   "id": "f06e305e",
   "metadata": {},
   "source": [
    "1. A set of one-dimensional data points is given to you: 5, 10, 15, 20, 25, 30, 35. Assume that k = 2 and that the first set of random centroid is 15, 32, and that the second set is 12, 30.\n",
    "a) Using the k-means method, create two clusters for each set of centroid described above.\n",
    "b) For each set of centroid values, calculate the SSE. \n",
    "\n",
    "2. Describe how the Market Basket Research makes use of association analysis concepts.\n",
    ":In market basket analysis, association rules are used to predict the likelihood of products being purchased together. Association rules count the frequency of items that occur together, seeking to find associations that occur far more often than expected.\n",
    "\n",
    "3. Give an example of the Apriori algorithm for learning association rules.\n",
    ":Apriori is an algorithm for frequent item set mining and association rule learning over relational databases.\n",
    "\n",
    "4. In hierarchical clustering, how is the distance between clusters measured? Explain how this metric is used to decide when to end the iteration.\n",
    ":For most common clustering software, the default distance measure is the Euclidean distance.Agile velocity is a measure of the work done during a specific time period. This metric is one of the most popular in agile project management. With the help of velocity, owners can predict the time required to complete a project.\n",
    "\n",
    "5. In the k-means algorithm, how do you recompute the cluster centroids?\n",
    ":The maximum distance from observations to the cluster centroid is a measure of the variability of the observations within each cluster. A higher maximum value, especially in relation to the average distance, indicates an observation in the cluster that lies farther from the cluster centroid.\n",
    "\n",
    "6. At the start of the clustering exercise, discuss one method for determining the required number of clusters.\n",
    ":The “Elbow” Method\n",
    "Probably the most well known method, the elbow method, in which the sum of squares at each number of clusters is calculated and graphed, and the user looks for a change of slope from steep to shallow (an elbow) to determine the optimal number of clusters\n",
    "\n",
    "7. Discuss the k-means algorithm's advantages and disadvantages.\n",
    ":\n",
    "K-Means Advantages : 1) If variables are huge, then K-Means most of the times computationally faster than hierarchical clustering, if we keep k smalls. 2) K-Means produce tighter clusters than hierarchical clustering, especially if the clusters are globular. \n",
    " K-Means Disadvantages : 1) Difficult to predict K-Value.2) It can not handle noisy data and outliers.3) It is not suitable to identify clusters with non-convex shapes.\n",
    " \n",
    "8. Draw a diagram to demonstrate the principle of clustering.\n",
    ":Cluster analysis or clustering is the task of grouping a set of objects in such a way that objects in the same group (called a cluster) are more similar (in some sense) to each other than to those in other groups (clusters)\n",
    "\n",
    "9. During your study, you discovered seven findings, which are listed in the data points below. Using the K-means algorithm, you want to build three clusters from these observations. The clusters C1, C2, and C3 have the following findings after the first iteration:\n",
    "\n",
    "C1: (2,2), (4,4), (6,6); C2: (2,2), (4,4), (6,6); C3: (2,2), (4,4),\n",
    "\n",
    "C2: (0,4), (4,0), (0,4), (0,4), (0,4), (0,4), (0,4), (0,4), (0,\n",
    "\n",
    "C3: (5,5) and (9,9)\n",
    "\n",
    "What would the cluster centroids be if you were to run a second iteration? What would this clustering's SSE be?\n",
    "\n",
    "10. In a software project, the team is attempting to determine if software flaws discovered during testing are identical. Based on the text analytics of the defect details, they decided to build 5 clusters of related defects. Any new defect formed after the 5 clusters of defects have been identified must be listed as one of the forms identified by clustering. A simple diagram can be used to explain this process. Assume you have 20 defect data points that are clustered into 5 clusters and you used the k-means algorithm.\n",
    ":"
   ]
  }
 ],
 "metadata": {
  "kernelspec": {
   "display_name": "Python 3",
   "language": "python",
   "name": "python3"
  },
  "language_info": {
   "codemirror_mode": {
    "name": "ipython",
    "version": 3
   },
   "file_extension": ".py",
   "mimetype": "text/x-python",
   "name": "python",
   "nbconvert_exporter": "python",
   "pygments_lexer": "ipython3",
   "version": "3.8.8"
  }
 },
 "nbformat": 4,
 "nbformat_minor": 5
}
