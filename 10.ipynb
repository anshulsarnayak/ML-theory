{
 "cells": [
  {
   "cell_type": "markdown",
   "id": "49252514",
   "metadata": {},
   "source": [
    "1. Define the Bayesian interpretation of probability.\n",
    ":Bayesian probability is an interpretation of the concept of probability, in which, instead of frequency or propensity of some phenomenon, probability is interpreted as reasonable expectation representing a state of knowledge or as quantification of a personal belief.\n",
    "\n",
    "2. Define probability of a union of two events with equation.\n",
    ":The general probability addition rule for the union of two events states that P(A∪B)=P(A)+P(B)−P(A∩B) P ( A ∪ B ) = P ( A ) + P ( B ) − P ( A ∩ B ) , where A∩B A ∩ B is the intersection of the two sets.\n",
    "\n",
    "3. What is joint probability? What is its formula?\n",
    ":Probabilities are combined using multiplication, therefore the joint probability of independent events is calculated as the probability of event A multiplied by the probability of event B. This can be stated formally as follows: Joint Probability: P(A and B) = P(A) * P(B)\n",
    "\n",
    "4. What is chain rule of probability?\n",
    ":the chain rule permits the calculation of any member of the joint distribution of a set of random variables using only conditional probabilities. \n",
    "\n",
    "5. What is conditional probability means? What is the formula of it?\n",
    ": conditional probability is p(A|B) is the probability of event A occurring, given that event B occurs.\n",
    "\n",
    "6. What are continuous random variables?\n",
    ":A continuous random variable is a function X X X on the outcomes of some probabilistic experiment which takes values in a continuous set V V V. That is, the possible outcomes lie in a set which is formally (by real-analysis) continuous, which can be understood in the intuitive sense of having no gaps.\n",
    "\n",
    "7. What are Bernoulli distributions? What is the formula of it?\n",
    ":A Bernoulli distribution is a discrete probability distribution for a Bernoulli trial — a random experiment that has only two outcomes (usually called a “Success” or a “Failure”).\n",
    "f(k;p) =pk + (1-p)(1-k)\n",
    "p\t=\tprobability\n",
    "k\t=\tpossible outcomes\n",
    "f\t=\tprobability mass function\n",
    "\n",
    "8. What is binomial distribution? What is the formula?\n",
    ":The binomial distribution formula is for any random variable X, given by; P(x:n,p) = nCx x px (1-p)n-x Or P(x:n,p) = nCx x px (q)n-x, where, n is the number of experiments, p is probability of success in a single experiment, q is probability of failure in a single experiment (= 1 – p) .\n",
    "\n",
    "9. What is Poisson distribution? What is the formula?\n",
    ":The Poisson distribution is a discrete distribution that measures the probability of a given number of events happening in a specified time period.The Poisson Distribution formula is: P(x; μ) = (e-μ) (μx) / x!\n",
    "\n",
    "10. Define covariance.\n",
    ":Covariance is a statistical tool that is used to determine the relationship between the movement of two asset prices.\n",
    "\n",
    "11. Define correlation\n",
    ":correlation is a statistical term describing the degree to which two variables move in coordination with one another. If the two variables move in the same direction, then those variables are said to have a positive correlation. If they move in opposite directions, then they have a negative correlation.\n",
    "\n",
    "12. Define sampling with replacement. Give example.\n",
    ":Sampling is called with replacement when a unit selected at random from the population is returned to the population and then a second element is selected at random. Whenever a unit is selected, the population contains all the same units, so a unit may be selected more than once.The possibilities for your two-name sample are: John, John. John, Jack.\n",
    "\n",
    "13. What is sampling without replacement? Give example.\n",
    ":sampling without replacement, each sample unit of the population has only one chance to be selected in the sample. For example, if one draws a simple random sample such that no unit occurs more than one time in the sample, the sample is drawn without replacement.\n",
    "\n",
    "14. What is hypothesis? Give example.\n",
    ": Hypothesis is an assumption of a result that is falsifiable, meaning it can be proven wrong by some evidence. A Hypothesis can be either rejected or failed to be rejected."
   ]
  }
 ],
 "metadata": {
  "kernelspec": {
   "display_name": "Python 3",
   "language": "python",
   "name": "python3"
  },
  "language_info": {
   "codemirror_mode": {
    "name": "ipython",
    "version": 3
   },
   "file_extension": ".py",
   "mimetype": "text/x-python",
   "name": "python",
   "nbconvert_exporter": "python",
   "pygments_lexer": "ipython3",
   "version": "3.8.8"
  }
 },
 "nbformat": 4,
 "nbformat_minor": 5
}
